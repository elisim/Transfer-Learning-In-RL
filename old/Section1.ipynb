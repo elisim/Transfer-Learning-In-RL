{
 "cells": [
  {
   "cell_type": "code",
   "execution_count": 16,
   "metadata": {},
   "outputs": [],
   "source": [
    "import gym\n",
    "env = gym.make(\"MountainCarContinuous-v0\").env\n",
    "# Solve: Get a reward over 90. This value might be tuned.\n",
    "# https://github.com/openai/gym/wiki/MountainCarContinuous-v0"
   ]
  },
  {
   "cell_type": "code",
   "execution_count": 17,
   "metadata": {},
   "outputs": [
    {
     "name": "stdout",
     "output_type": "stream",
     "text": [
      "-16.169150556757792\n"
     ]
    }
   ],
   "source": [
    "state = env.reset()\n",
    "total_rewards = 0\n",
    "for i in range(500):\n",
    "    action = env.action_space.sample()\n",
    "    env.render()\n",
    "    next_state, reward, done, _ = env.step(action)\n",
    "    if done:\n",
    "        env.reset()\n",
    "        continue\n",
    "    total_rewards += reward\n",
    "\n",
    "env.close()\n",
    "print(total_rewards)"
   ]
  },
  {
   "cell_type": "code",
   "execution_count": 19,
   "metadata": {},
   "outputs": [
    {
     "data": {
      "text/plain": [
       "array([-0.5155565 , -0.01585135], dtype=float32)"
      ]
     },
     "execution_count": 19,
     "metadata": {},
     "output_type": "execute_result"
    }
   ],
   "source": [
    "env.observation_space.sample() "
   ]
  },
  {
   "cell_type": "code",
   "execution_count": 20,
   "metadata": {},
   "outputs": [
    {
     "name": "stdout",
     "output_type": "stream",
     "text": [
      "\n",
      "WARNING: The TensorFlow contrib module will not be included in TensorFlow 2.0.\n",
      "For more information, please see:\n",
      "  * https://github.com/tensorflow/community/blob/master/rfcs/20180907-contrib-sunset.md\n",
      "  * https://github.com/tensorflow/addons\n",
      "If you depend on functionality not listed there, please file an issue.\n",
      "\n",
      "WARNING:tensorflow:From C:\\Users\\Eli Simhayev\\Workspace\\Transfer-Learning-In-RL\\ac_copy.py:34: dense (from tensorflow.python.layers.core) is deprecated and will be removed in a future version.\n",
      "Instructions for updating:\n",
      "Use keras.layers.dense instead.\n",
      "WARNING:tensorflow:From C:\\Users\\Eli Simhayev\\Anaconda3\\envs\\dlinto\\lib\\site-packages\\tensorflow\\python\\framework\\op_def_library.py:263: colocate_with (from tensorflow.python.framework.ops) is deprecated and will be removed in a future version.\n",
      "Instructions for updating:\n",
      "Colocations handled automatically by placer.\n",
      "WARNING:tensorflow:From C:\\Users\\Eli Simhayev\\Workspace\\Transfer-Learning-In-RL\\ac_copy.py:39: Normal.__init__ (from tensorflow.python.ops.distributions.normal) is deprecated and will be removed after 2019-01-01.\n",
      "Instructions for updating:\n",
      "The TensorFlow Distributions library has moved to TensorFlow Probability (https://github.com/tensorflow/probability). You should update all references to use `tfp.distributions` instead of `tf.distributions`.\n",
      "WARNING:tensorflow:From C:\\Users\\Eli Simhayev\\Anaconda3\\envs\\dlinto\\lib\\site-packages\\tensorflow\\python\\ops\\distributions\\normal.py:160: Distribution.__init__ (from tensorflow.python.ops.distributions.distribution) is deprecated and will be removed after 2019-01-01.\n",
      "Instructions for updating:\n",
      "The TensorFlow Distributions library has moved to TensorFlow Probability (https://github.com/tensorflow/probability). You should update all references to use `tfp.distributions` instead of `tf.distributions`.\n",
      "WARNING:tensorflow:From C:\\Users\\Eli Simhayev\\Anaconda3\\envs\\dlinto\\lib\\site-packages\\tensorflow\\python\\ops\\math_ops.py:3066: to_int32 (from tensorflow.python.ops.math_ops) is deprecated and will be removed in a future version.\n",
      "Instructions for updating:\n",
      "Use tf.cast instead.\n"
     ]
    }
   ],
   "source": [
    "import ac_copy"
   ]
  },
  {
   "cell_type": "code",
   "execution_count": null,
   "metadata": {},
   "outputs": [
    {
     "name": "stdout",
     "output_type": "stream",
     "text": [
      "Episode: 0, Number of Steps : 999, Cumulative reward: -38.32\n",
      "Episode: 1, Number of Steps : 579, Cumulative reward: 76.40\n",
      "Episode: 2, Number of Steps : 516, Cumulative reward: 80.80\n",
      "Episode: 3, Number of Steps : 593, Cumulative reward: 80.55\n",
      "Episode: 4, Number of Steps : 631, Cumulative reward: 77.87\n",
      "Episode: 5, Number of Steps : 554, Cumulative reward: 78.61\n",
      "Episode: 6, Number of Steps : 390, Cumulative reward: 85.00\n",
      "Episode: 7, Number of Steps : 351, Cumulative reward: 85.20\n",
      "Episode: 8, Number of Steps : 374, Cumulative reward: 86.12\n",
      "Episode: 9, Number of Steps : 453, Cumulative reward: 83.04\n",
      "Episode: 10, Number of Steps : 269, Cumulative reward: 89.45\n",
      "Episode: 11, Number of Steps : 216, Cumulative reward: 91.43\n",
      "Episode: 12, Number of Steps : 237, Cumulative reward: 89.45\n",
      "Episode: 13, Number of Steps : 238, Cumulative reward: 89.79\n",
      "Episode: 14, Number of Steps : 398, Cumulative reward: 84.91\n",
      "Episode: 15, Number of Steps : 260, Cumulative reward: 88.14\n",
      "Episode: 16, Number of Steps : 225, Cumulative reward: 91.14\n",
      "Episode: 17, Number of Steps : 240, Cumulative reward: 90.37\n",
      "Episode: 18, Number of Steps : 317, Cumulative reward: 85.93\n",
      "Episode: 19, Number of Steps : 321, Cumulative reward: 87.58\n",
      "Episode: 20, Number of Steps : 193, Cumulative reward: 91.86\n",
      "Episode: 21, Number of Steps : 159, Cumulative reward: 92.91\n",
      "Episode: 22, Number of Steps : 324, Cumulative reward: 85.18\n",
      "Episode: 23, Number of Steps : 275, Cumulative reward: 88.27\n",
      "Episode: 24, Number of Steps : 358, Cumulative reward: 85.17\n",
      "Episode: 25, Number of Steps : 249, Cumulative reward: 86.93\n"
     ]
    }
   ],
   "source": [
    "ac_copy.run()"
   ]
  },
  {
   "cell_type": "code",
   "execution_count": null,
   "metadata": {},
   "outputs": [],
   "source": []
  }
 ],
 "metadata": {
  "kernelspec": {
   "display_name": "Python [conda env:dlinto]",
   "language": "python",
   "name": "conda-env-dlinto-py"
  },
  "language_info": {
   "codemirror_mode": {
    "name": "ipython",
    "version": 3
   },
   "file_extension": ".py",
   "mimetype": "text/x-python",
   "name": "python",
   "nbconvert_exporter": "python",
   "pygments_lexer": "ipython3",
   "version": "3.6.8"
  }
 },
 "nbformat": 4,
 "nbformat_minor": 4
}
