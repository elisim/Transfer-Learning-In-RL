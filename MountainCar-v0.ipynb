{
 "cells": [
  {
   "cell_type": "code",
   "execution_count": 6,
   "metadata": {},
   "outputs": [
    {
     "name": "stdout",
     "output_type": "stream",
     "text": [
      "The autoreload extension is already loaded. To reload it, use:\n",
      "  %reload_ext autoreload\n"
     ]
    }
   ],
   "source": [
    "%load_ext autoreload\n",
    "%autoreload 2\n",
    "from parmas import get_params\n",
    "from train_actor_critic import ActorCriticTrainer"
   ]
  },
  {
   "cell_type": "code",
   "execution_count": 7,
   "metadata": {},
   "outputs": [],
   "source": [
    "trained_model = 'MountainCarContinuous-v0'\n",
    "test_game = 'MountainCarContinuous-v0'\n",
    "\n",
    "mode = 'train-model'\n",
    "# mode = 'fine-tune'\n",
    "# mode = 'transfer-learning'\n",
    "\n",
    "input_dict = get_params(test_game)\n",
    "\n",
    "model = ActorCriticTrainer(input_dict)"
   ]
  },
  {
   "cell_type": "code",
   "execution_count": null,
   "metadata": {},
   "outputs": [
    {
     "name": "stdout",
     "output_type": "stream",
     "text": [
      "Training model for MountainCarContinuous-v0\n",
      "WARNING:tensorflow:From C:\\Users\\Eli Simhayev\\Anaconda3\\envs\\dlinto\\lib\\site-packages\\tensorflow\\python\\ops\\math_ops.py:3066: to_int32 (from tensorflow.python.ops.math_ops) is deprecated and will be removed in a future version.\n",
      "Instructions for updating:\n",
      "Use tf.cast instead.\n"
     ]
    },
    {
     "name": "stderr",
     "output_type": "stream",
     "text": [
      "C:\\Users\\Eli Simhayev\\Anaconda3\\envs\\dlinto\\lib\\site-packages\\numpy\\core\\fromnumeric.py:3335: RuntimeWarning: Mean of empty slice.\n",
      "  out=out, **kwargs)\n",
      "C:\\Users\\Eli Simhayev\\Anaconda3\\envs\\dlinto\\lib\\site-packages\\numpy\\core\\_methods.py:161: RuntimeWarning: invalid value encountered in double_scalars\n",
      "  ret = ret.dtype.type(ret / rcount)\n"
     ]
    },
    {
     "name": "stdout",
     "output_type": "stream",
     "text": [
      "Episode 0, Number of Steps: 499, Reward: -3.529346311530759 Average over 100 episodes: nan\n",
      "Episode 1, Number of Steps: 499, Reward: -3.4609927466582926 Average over 100 episodes: -3.53\n",
      "Episode 2, Number of Steps: 499, Reward: -3.3723308687349602 Average over 100 episodes: -3.5\n",
      "Episode 3, Number of Steps: 499, Reward: -3.4056775893531896 Average over 100 episodes: -3.45\n",
      "Episode 4, Number of Steps: 499, Reward: -3.383235445127167 Average over 100 episodes: -3.44\n",
      "Episode 5, Number of Steps: 499, Reward: -3.364694824397922 Average over 100 episodes: -3.43\n",
      "Episode 6, Number of Steps: 499, Reward: -3.835874976912397 Average over 100 episodes: -3.42\n",
      "Episode 7, Number of Steps: 499, Reward: -3.446764360013159 Average over 100 episodes: -3.48\n",
      "Episode 8, Number of Steps: 499, Reward: -3.556823926776365 Average over 100 episodes: -3.47\n"
     ]
    }
   ],
   "source": [
    "if mode == 'fine-tune':\n",
    "    print(f'Loading {trained_model} and testing on {test_game}')\n",
    "    model.load(f'models/{trained_model}', input_dict)\n",
    "    model.train()\n",
    "\n",
    "elif mode == 'train-model':\n",
    "    print(f'Training model for {trained_model}')\n",
    "    model.train()\n",
    "    model.save(f'models/{trained_model}')\n",
    "\n",
    "elif mode == 'transfer-learning':\n",
    "    print(f'Creating prog model')\n",
    "    model.create_progressive_network([f'models/{cart}', f'models/{acro}'], input_dict)\n",
    "    model.train()"
   ]
  }
 ],
 "metadata": {
  "kernelspec": {
   "display_name": "Python [conda env:dlinto]",
   "language": "python",
   "name": "conda-env-dlinto-py"
  },
  "language_info": {
   "codemirror_mode": {
    "name": "ipython",
    "version": 3
   },
   "file_extension": ".py",
   "mimetype": "text/x-python",
   "name": "python",
   "nbconvert_exporter": "python",
   "pygments_lexer": "ipython3",
   "version": "3.6.8"
  }
 },
 "nbformat": 4,
 "nbformat_minor": 4
}
